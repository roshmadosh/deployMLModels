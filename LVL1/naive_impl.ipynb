{
 "cells": [
  {
   "cell_type": "code",
   "execution_count": 3,
   "id": "8e8e8c1c",
   "metadata": {},
   "outputs": [],
   "source": [
    "import sys\n",
    "import pandas as pd\n",
    "from sklearn.linear_model import LogisticRegression\n",
    "\n",
    "# dicts for human-readable input\n",
    "map_gender = {\n",
    "    \"female\": 0,\n",
    "    \"male\": 1\n",
    "}\n",
    "map_class = {\n",
    "    \"upper\": 1,\n",
    "    \"middle\": 2,\n",
    "    \"lower\": 3\n",
    "}\n",
    "\n",
    "\n",
    "def predict(input):\n",
    "    # read data and drop Nans\n",
    "    df = pd.read_csv(\"../train.csv\")\n",
    "    df = df.dropna()\n",
    "\n",
    "    # maps \"Female\" to 0, \"Male\" to 1\n",
    "    df['Sex'] = df['Sex'].astype('category').cat.codes\n",
    "\n",
    "    # features and target\n",
    "    X = df[['Pclass', 'Sex', 'Age']]\n",
    "    y = df[['Survived']]\n",
    "\n",
    "    # not evaluating model performance, no train-test split\n",
    "    model = LogisticRegression()\n",
    "    model.fit(X, y)\n",
    "\n",
    "    # map input to their numerical values\n",
    "    mapped_input = [map_class[input[0]], map_gender[input[1]], int(input[2])]\n",
    "\n",
    "    # predict\n",
    "    prediction = model.predict_proba([mapped_input])\n",
    "\n",
    "    chance_of_survival = prediction[0][1] * 100\n",
    "\n",
    "    # output\n",
    "    print(\"Chance of survival:\", \"{}%\".format(str(round(chance_of_survival, 2))))"
   ]
  },
  {
   "cell_type": "code",
   "execution_count": 4,
   "id": "ef0da010",
   "metadata": {},
   "outputs": [
    {
     "name": "stdout",
     "output_type": "stream",
     "text": [
      "Chance of survival: 37.3%\n"
     ]
    },
    {
     "name": "stderr",
     "output_type": "stream",
     "text": [
      "/home/hiroshin/py_envs/deployMLmodels/lib/python3.10/site-packages/sklearn/utils/validation.py:1143: DataConversionWarning: A column-vector y was passed when a 1d array was expected. Please change the shape of y to (n_samples, ), for example using ravel().\n",
      "  y = column_or_1d(y, warn=True)\n",
      "/home/hiroshin/py_envs/deployMLmodels/lib/python3.10/site-packages/sklearn/base.py:439: UserWarning: X does not have valid feature names, but LogisticRegression was fitted with feature names\n",
      "  warnings.warn(\n"
     ]
    }
   ],
   "source": [
    "predict([\"lower\", \"male\", 17])"
   ]
  }
 ],
 "metadata": {
  "kernelspec": {
   "display_name": "Python 3 (ipykernel)",
   "language": "python",
   "name": "python3"
  },
  "language_info": {
   "codemirror_mode": {
    "name": "ipython",
    "version": 3
   },
   "file_extension": ".py",
   "mimetype": "text/x-python",
   "name": "python",
   "nbconvert_exporter": "python",
   "pygments_lexer": "ipython3",
   "version": "3.10.6"
  }
 },
 "nbformat": 4,
 "nbformat_minor": 5
}
